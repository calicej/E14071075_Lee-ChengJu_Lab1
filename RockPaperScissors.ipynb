{
 "cells": [
  {
   "cell_type": "code",
   "execution_count": 1,
   "id": "483c6d3a",
   "metadata": {},
   "outputs": [
    {
     "name": "stdout",
     "output_type": "stream",
     "text": [
      "Welcome to ROCK, PAPER, SCISSORS game!\n"
     ]
    }
   ],
   "source": [
    "print(\"Welcome to ROCK, PAPER, SCISSORS game!\")"
   ]
  },
  {
   "cell_type": "code",
   "execution_count": null,
   "id": "14566d61",
   "metadata": {},
   "outputs": [],
   "source": [
    "count = 0\n",
    "while count == 0: #count決定迴圈的進出\n",
    "    choice = input(\"Enter your move: (r)ock (p)aper (s)cissors\")\n",
    "    import random\n",
    "    computer = random.randint(0,2)\n",
    "    if choice == 'r':\n",
    "        choice = 0\n",
    "    elif choice == 'p':\n",
    "        choice = 1\n",
    "    else:\n",
    "        choice = 2\n",
    "\n",
    "    if choice == computer: #平手\n",
    "        if choice == 0:\n",
    "            print(\"ROCK versus...\")\n",
    "            print(\"ROCK\")\n",
    "            print(\"It is a tie!\")\n",
    "        elif choice == 1:\n",
    "            print(\"PAPER versus...\")\n",
    "            print(\"PAPER\")\n",
    "            print(\"It is a tie!\")\n",
    "        else:\n",
    "            print(\"SCISSORS versus...\")\n",
    "            print(\"SCISSORS\")\n",
    "            print(\"It is a tie!\")\n",
    "      \n",
    "    elif choice == 0 and computer == 1: #user出rock，computer出paper\n",
    "        print(\"ROCK versus...\")\n",
    "        print(\"PAPER\")\n",
    "        print(\"You lose!\")\n",
    "    elif choice == 0 and computer == 2: #user出rock，computer出scissors\n",
    "        print(\"ROCK versus...\")\n",
    "        print(\"SCISSORS\")\n",
    "        print(\"You win!\")\n",
    "        break\n",
    "    \n",
    "    elif choice == 1 and computer == 0: #user出paper，computer出rock\n",
    "        print(\"PAPER versus...\")\n",
    "        print(\"ROCK\")\n",
    "        print(\"You win!\")\n",
    "        break\n",
    "    elif choice == 1 and computer == 2: #user出paper，computer出scissors\n",
    "        print(\"PAPER versus...\")\n",
    "        print(\"SCISSORS\")\n",
    "        print(\"You lose!\")\n",
    "        \n",
    "    elif choice == 2 and computer == 0: #user出scissors，computer出rock\n",
    "        print(\"SCISSORS versus...\")\n",
    "        print(\"ROCK\")\n",
    "        print(\"You lose!\")\n",
    "    elif choice == 2 and computer == 1: #user出scissors，computer出paper\n",
    "        print(\"SCISSORS versus...\")\n",
    "        print(\"PAPER\")\n",
    "        print(\"You win!\") \n",
    "        break\n",
    "    "
   ]
  },
  {
   "cell_type": "code",
   "execution_count": null,
   "id": "0510940f",
   "metadata": {},
   "outputs": [],
   "source": []
  }
 ],
 "metadata": {
  "kernelspec": {
   "display_name": "Python 3",
   "language": "python",
   "name": "python3"
  },
  "language_info": {
   "codemirror_mode": {
    "name": "ipython",
    "version": 3
   },
   "file_extension": ".py",
   "mimetype": "text/x-python",
   "name": "python",
   "nbconvert_exporter": "python",
   "pygments_lexer": "ipython3",
   "version": "3.8.8"
  }
 },
 "nbformat": 4,
 "nbformat_minor": 5
}
