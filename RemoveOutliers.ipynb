{
 "cells": [
  {
   "cell_type": "code",
   "execution_count": null,
   "id": "7bf6d165",
   "metadata": {},
   "outputs": [],
   "source": [
    "def remove_outliers(List):\n",
    "    List = sorted(List) #由小到大排列\n",
    "    outliers = []\n",
    "    for i in range(Remove_num): #移除最大的兩個值\n",
    "        x = List.pop() #移除最後一個值(最大值)\n",
    "        outliers.append(x) #將移除的值append入outliers\n",
    "    for i in range(Remove_num): #移除最小的兩個值\n",
    "        x = List.pop(0) #移除 index=0的值(最小值)\n",
    "        outliers.append(x) #將移除的值append入outliers\n",
    "    outliers.sort() #由小到大排列\n",
    "    return List, outliers \n",
    "\n",
    "\n",
    "Remove_num = int(input(\"Enter the number of smallest and largest values to remove:\"))\n",
    "count = 0\n",
    "numlist = []\n",
    "while count == 0:\n",
    "    num = input(\"Enter a value (q or Q to quit): \")\n",
    "    if num == 'q' or num == \"Q\":\n",
    "        count = 1\n",
    "    else:\n",
    "        num = int(num)\n",
    "        numlist.append(num)\n",
    "        \n",
    "print(\"The original data:\",numlist)\n",
    "a , b = remove_outliers(numlist) #存放兩個函式回傳的值\n",
    "\n",
    "print(\"The data with the outliers removed: \", a)\n",
    "print(\"The outliers: \", b)"
   ]
  },
  {
   "cell_type": "code",
   "execution_count": null,
   "id": "d49667e6",
   "metadata": {},
   "outputs": [],
   "source": []
  },
  {
   "cell_type": "code",
   "execution_count": null,
   "id": "baae35e0",
   "metadata": {},
   "outputs": [],
   "source": []
  },
  {
   "cell_type": "code",
   "execution_count": null,
   "id": "23a65a75",
   "metadata": {},
   "outputs": [],
   "source": []
  },
  {
   "cell_type": "code",
   "execution_count": null,
   "id": "7881d66c",
   "metadata": {},
   "outputs": [],
   "source": []
  },
  {
   "cell_type": "code",
   "execution_count": null,
   "id": "85fc3442",
   "metadata": {},
   "outputs": [],
   "source": []
  }
 ],
 "metadata": {
  "kernelspec": {
   "display_name": "Python 3",
   "language": "python",
   "name": "python3"
  },
  "language_info": {
   "codemirror_mode": {
    "name": "ipython",
    "version": 3
   },
   "file_extension": ".py",
   "mimetype": "text/x-python",
   "name": "python",
   "nbconvert_exporter": "python",
   "pygments_lexer": "ipython3",
   "version": "3.8.8"
  }
 },
 "nbformat": 4,
 "nbformat_minor": 5
}
