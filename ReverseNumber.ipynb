{
 "cells": [
  {
   "cell_type": "code",
   "execution_count": null,
   "id": "0566daa3",
   "metadata": {},
   "outputs": [],
   "source": [
    "def reverse(num):\n",
    "    num_reverse = ' '\n",
    "    for i in range(len(str(num)) , 0 , -1):\n",
    "        num_reverse = str(num // (10 ** (i-1))) + num_reverse  \n",
    "        num %= (10 ** (i - 1))\n",
    "    return num_reverse\n",
    "\n",
    "number = int(input('Enter an integer: '))\n",
    "number_reverse = reverse(number)\n",
    "print(number_reverse)"
   ]
  },
  {
   "cell_type": "code",
   "execution_count": null,
   "id": "4e2a346d",
   "metadata": {},
   "outputs": [],
   "source": []
  },
  {
   "cell_type": "code",
   "execution_count": null,
   "id": "40f39aa8",
   "metadata": {},
   "outputs": [],
   "source": []
  },
  {
   "cell_type": "code",
   "execution_count": null,
   "id": "1a86b121",
   "metadata": {},
   "outputs": [],
   "source": []
  },
  {
   "cell_type": "code",
   "execution_count": null,
   "id": "cb8a42f7",
   "metadata": {},
   "outputs": [],
   "source": []
  }
 ],
 "metadata": {
  "kernelspec": {
   "display_name": "Python 3",
   "language": "python",
   "name": "python3"
  },
  "language_info": {
   "codemirror_mode": {
    "name": "ipython",
    "version": 3
   },
   "file_extension": ".py",
   "mimetype": "text/x-python",
   "name": "python",
   "nbconvert_exporter": "python",
   "pygments_lexer": "ipython3",
   "version": "3.8.8"
  }
 },
 "nbformat": 4,
 "nbformat_minor": 5
}
